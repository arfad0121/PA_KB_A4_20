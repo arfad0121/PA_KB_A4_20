{
 "cells": [
  {
   "cell_type": "code",
   "execution_count": 16,
   "id": "2436126e",
   "metadata": {},
   "outputs": [
    {
     "name": "stdout",
     "output_type": "stream",
     "text": [
      "Requirement already satisfied: ipython-autotime in c:\\users\\user\\appdata\\local\\programs\\python\\python310\\lib\\site-packages (0.3.1)The autotime extension is already loaded. To reload it, use:\n",
      "  %reload_ext autotime\n",
      "time: 11.2 s (started: 2022-11-21 15:24:03 +08:00)\n",
      "\n",
      "Requirement already satisfied: ipython in c:\\users\\user\\appdata\\local\\programs\\python\\python310\\lib\\site-packages (from ipython-autotime) (8.5.0)\n",
      "Requirement already satisfied: pickleshare in c:\\users\\user\\appdata\\local\\programs\\python\\python310\\lib\\site-packages (from ipython->ipython-autotime) (0.7.5)\n",
      "Requirement already satisfied: backcall in c:\\users\\user\\appdata\\local\\programs\\python\\python310\\lib\\site-packages (from ipython->ipython-autotime) (0.2.0)\n",
      "Requirement already satisfied: decorator in c:\\users\\user\\appdata\\local\\programs\\python\\python310\\lib\\site-packages (from ipython->ipython-autotime) (5.1.1)\n",
      "Requirement already satisfied: matplotlib-inline in c:\\users\\user\\appdata\\local\\programs\\python\\python310\\lib\\site-packages (from ipython->ipython-autotime) (0.1.6)\n",
      "Requirement already satisfied: prompt-toolkit<3.1.0,>3.0.1 in c:\\users\\user\\appdata\\local\\programs\\python\\python310\\lib\\site-packages (from ipython->ipython-autotime) (3.0.31)\n",
      "Requirement already satisfied: jedi>=0.16 in c:\\users\\user\\appdata\\local\\programs\\python\\python310\\lib\\site-packages (from ipython->ipython-autotime) (0.18.1)\n",
      "Requirement already satisfied: pygments>=2.4.0 in c:\\users\\user\\appdata\\local\\programs\\python\\python310\\lib\\site-packages (from ipython->ipython-autotime) (2.13.0)\n",
      "Requirement already satisfied: stack-data in c:\\users\\user\\appdata\\local\\programs\\python\\python310\\lib\\site-packages (from ipython->ipython-autotime) (0.5.0)\n",
      "Requirement already satisfied: traitlets>=5 in c:\\users\\user\\appdata\\local\\programs\\python\\python310\\lib\\site-packages (from ipython->ipython-autotime) (5.4.0)\n",
      "Requirement already satisfied: colorama in c:\\users\\user\\appdata\\local\\programs\\python\\python310\\lib\\site-packages (from ipython->ipython-autotime) (0.4.5)\n",
      "Requirement already satisfied: parso<0.9.0,>=0.8.0 in c:\\users\\user\\appdata\\local\\programs\\python\\python310\\lib\\site-packages (from jedi>=0.16->ipython->ipython-autotime) (0.8.3)\n",
      "Requirement already satisfied: wcwidth in c:\\users\\user\\appdata\\local\\programs\\python\\python310\\lib\\site-packages (from prompt-toolkit<3.1.0,>3.0.1->ipython->ipython-autotime) (0.2.5)\n",
      "Requirement already satisfied: pure-eval in c:\\users\\user\\appdata\\local\\programs\\python\\python310\\lib\\site-packages (from stack-data->ipython->ipython-autotime) (0.2.2)\n",
      "Requirement already satisfied: asttokens in c:\\users\\user\\appdata\\local\\programs\\python\\python310\\lib\\site-packages (from stack-data->ipython->ipython-autotime) (2.0.8)\n",
      "Requirement already satisfied: executing in c:\\users\\user\\appdata\\local\\programs\\python\\python310\\lib\\site-packages (from stack-data->ipython->ipython-autotime) (1.0.0)\n",
      "Requirement already satisfied: six in c:\\users\\user\\appdata\\local\\programs\\python\\python310\\lib\\site-packages (from asttokens->stack-data->ipython->ipython-autotime) (1.16.0)\n"
     ]
    }
   ],
   "source": [
    "import tensorflow as tf\n",
    "from tensorflow.keras.preprocessing.image import ImageDataGenerator\n",
    "from tensorflow.keras.applications import MobileNetV2\n",
    "from tensorflow.keras.layers import AveragePooling2D\n",
    "from tensorflow.keras.layers import Dropout\n",
    "from tensorflow.keras.layers import Flatten\n",
    "from tensorflow.keras.layers import Dense\n",
    "from tensorflow.keras.layers import Input\n",
    "from tensorflow.keras.models import Model\n",
    "from tensorflow.keras.optimizers import Adam\n",
    "from tensorflow.keras.applications.mobilenet_v2 import preprocess_input\n",
    "from tensorflow.keras.preprocessing.image import img_to_array\n",
    "from tensorflow.keras.preprocessing.image import load_img\n",
    "from tensorflow.keras.utils import to_categorical\n",
    "from sklearn.preprocessing import LabelBinarizer\n",
    "from sklearn.model_selection import train_test_split\n",
    "from sklearn.metrics import classification_report\n",
    "from sklearn.metrics import confusion_matrix\n",
    "from imutils import paths\n",
    "import matplotlib.pyplot as plt\n",
    "import pathlib\n",
    "import numpy as np\n",
    "import argparse\n",
    "import os\n",
    "import itertools\n",
    " \n",
    "# Mengihitung waktu lamanya eksekusi tiap sel di Google Colab\n",
    "!pip install ipython-autotime\n",
    " \n",
    "%load_ext autotime"
   ]
  },
  {
   "cell_type": "code",
   "execution_count": 26,
   "id": "d47262b8",
   "metadata": {},
   "outputs": [
    {
     "name": "stdout",
     "output_type": "stream",
     "text": [
      "Menginput gambar...\n",
      "Input gambar berhasil\n",
      "time: 56.4 s (started: 2022-11-21 15:25:33 +08:00)\n"
     ]
    }
   ],
   "source": [
    "# Inisialisasi nilai Initial Learning Rate, berapa banyak Epoch pelatihan, dan Batch Size\n",
    "INIT_LR = 1e-4\n",
    "EPOCHS = 30\n",
    "BS = 32\n",
    " \n",
    "# Mengambil gambar dari dataset directory, kemudian inisialisasi data dan class gambar\n",
    "print(\"Menginput gambar...\")\n",
    "imagePaths = list(paths.list_images('dataset'))\n",
    "data = []\n",
    "labels = []\n",
    " \n",
    "# Melakukan perulangan pada image paths\n",
    "for imagePath in imagePaths:\n",
    " \n",
    "    # Mengekstrak class label dari filename\n",
    "    label = imagePath.split(os.path.sep)[-2]\n",
    "    # Memuat input gambar (224x224) dan melakukan proses\n",
    "    image = load_img(imagePath, target_size=(224, 224))\n",
    "    image = img_to_array(image)\n",
    "    image = preprocess_input(image)\n",
    " \n",
    "    # Mengupdate data dan labels lists, berurutan\n",
    "    data.append(image)\n",
    "    labels.append(label)\n",
    "    \n",
    "\n",
    "# Mengkonversi data dan label ke dalam NumPy Arrays\n",
    "data = np.array(data, dtype=\"float32\")\n",
    "labels = np.array(labels)\n",
    " \n",
    "# Melakukan one-hot encoding on the labels\n",
    "lb = LabelBinarizer()\n",
    "labels = lb.fit_transform(labels)\n",
    "labels = to_categorical(labels)\n",
    "print(\"Input gambar berhasil\")"
   ]
  },
  {
   "cell_type": "code",
   "execution_count": 23,
   "id": "fa1d02f9-264a-4f6e-bec6-5d5e2530f710",
   "metadata": {},
   "outputs": [
    {
     "name": "stdout",
     "output_type": "stream",
     "text": [
      "(2254, 224, 224, 3)\n",
      "(2254, 2)\n",
      "time: 16 ms (started: 2022-11-21 15:23:58 +08:00)\n"
     ]
    }
   ],
   "source": [
    "print(data.shape)\n",
    "print(labels.shape)"
   ]
  },
  {
   "cell_type": "code",
   "execution_count": 22,
   "id": "0aefba1e-8f89-4481-bd55-ba7fff2f8012",
   "metadata": {},
   "outputs": [
    {
     "data": {
      "text/plain": [
       "array([-1.        , -0.99215686, -0.9843137 , -0.9764706 , -0.96862745,\n",
       "       -0.9607843 , -0.9529412 , -0.94509804, -0.9372549 , -0.92941177,\n",
       "       -0.92156863, -0.9137255 , -0.90588236, -0.8980392 , -0.8901961 ,\n",
       "       -0.88235295, -0.8745098 , -0.8666667 , -0.85882354, -0.8509804 ,\n",
       "       -0.84313726, -0.8352941 , -0.827451  , -0.81960785, -0.8117647 ,\n",
       "       -0.8039216 , -0.79607844, -0.7882353 , -0.78039217, -0.77254903,\n",
       "       -0.7647059 , -0.75686276, -0.7490196 , -0.7411765 , -0.73333335,\n",
       "       -0.7254902 , -0.7176471 , -0.70980394, -0.7019608 , -0.69411767,\n",
       "       -0.6862745 , -0.6784314 , -0.67058825, -0.6627451 , -0.654902  ,\n",
       "       -0.64705884, -0.6392157 , -0.6313726 , -0.62352943, -0.6156863 ,\n",
       "       -0.60784316, -0.6       , -0.5921569 , -0.58431375, -0.5764706 ,\n",
       "       -0.5686275 , -0.56078434, -0.5529412 , -0.54509807, -0.5372549 ,\n",
       "       -0.5294118 , -0.52156866, -0.5137255 , -0.5058824 , -0.4980392 ,\n",
       "       -0.49019605, -0.4823529 , -0.47450978, -0.46666664, -0.4588235 ,\n",
       "       -0.45098037, -0.44313723, -0.4352941 , -0.42745095, -0.41960782,\n",
       "       -0.41176468, -0.40392154, -0.3960784 , -0.38823527, -0.38039213,\n",
       "       -0.372549  , -0.36470586, -0.35686272, -0.3490196 , -0.34117645,\n",
       "       -0.3333333 , -0.32549018, -0.31764704, -0.3098039 , -0.30196077,\n",
       "       -0.29411763, -0.2862745 , -0.27843136, -0.27058822, -0.26274508,\n",
       "       -0.25490195, -0.24705881, -0.23921567, -0.23137254, -0.2235294 ,\n",
       "       -0.21568626, -0.20784312, -0.19999999, -0.19215685, -0.18431371,\n",
       "       -0.17647058, -0.16862744, -0.1607843 , -0.15294117, -0.14509803,\n",
       "       -0.1372549 , -0.12941176, -0.12156862, -0.11372548, -0.10588235,\n",
       "       -0.09803921, -0.09019607, -0.08235294, -0.0745098 , -0.06666666,\n",
       "       -0.05882353, -0.05098039, -0.04313725, -0.03529412, -0.02745098,\n",
       "       -0.01960784, -0.01176471, -0.00392157,  0.00392163,  0.01176476,\n",
       "        0.0196079 ,  0.02745104,  0.03529418,  0.04313731,  0.05098045,\n",
       "        0.05882359,  0.06666672,  0.07450986,  0.082353  ,  0.09019613,\n",
       "        0.09803927,  0.10588241,  0.11372554,  0.12156868,  0.12941182,\n",
       "        0.13725495,  0.14509809,  0.15294123,  0.16078436,  0.1686275 ,\n",
       "        0.17647064,  0.18431377,  0.19215691,  0.20000005,  0.20784318,\n",
       "        0.21568632,  0.22352946,  0.2313726 ,  0.23921573,  0.24705887,\n",
       "        0.254902  ,  0.26274514,  0.27058828,  0.27843142,  0.28627455,\n",
       "        0.2941177 ,  0.30196083,  0.30980396,  0.3176471 ,  0.32549024,\n",
       "        0.33333337,  0.3411765 ,  0.34901965,  0.35686278,  0.36470592,\n",
       "        0.37254906,  0.3803922 ,  0.38823533,  0.39607847,  0.4039216 ,\n",
       "        0.41176474,  0.41960788,  0.427451  ,  0.43529415,  0.4431373 ,\n",
       "        0.45098042,  0.45882356,  0.4666667 ,  0.47450984,  0.48235297,\n",
       "        0.4901961 ,  0.49803925,  0.5058824 ,  0.5137255 ,  0.52156866,\n",
       "        0.5294118 ,  0.5372549 ,  0.54509807,  0.5529412 ,  0.56078434,\n",
       "        0.5686275 ,  0.5764706 ,  0.58431375,  0.5921569 ,  0.6       ,\n",
       "        0.60784316,  0.6156863 ,  0.62352943,  0.6313726 ,  0.6392157 ,\n",
       "        0.64705884,  0.654902  ,  0.6627451 ,  0.67058825,  0.6784314 ,\n",
       "        0.6862745 ,  0.69411767,  0.7019608 ,  0.70980394,  0.7176471 ,\n",
       "        0.7254902 ,  0.73333335,  0.7411765 ,  0.7490196 ,  0.75686276,\n",
       "        0.7647059 ,  0.77254903,  0.78039217,  0.7882353 ,  0.79607844,\n",
       "        0.8039216 ,  0.8117647 ,  0.81960785,  0.827451  ,  0.8352941 ,\n",
       "        0.84313726,  0.8509804 ,  0.85882354,  0.8666667 ,  0.8745098 ,\n",
       "        0.88235295,  0.8901961 ,  0.8980392 ,  0.90588236,  0.9137255 ,\n",
       "        0.92156863,  0.92941177,  0.9372549 ,  0.94509804,  0.9529412 ,\n",
       "        0.9607843 ,  0.96862745,  0.9764706 ,  0.9843137 ,  0.99215686,\n",
       "        1.        ], dtype=float32)"
      ]
     },
     "execution_count": 22,
     "metadata": {},
     "output_type": "execute_result"
    },
    {
     "name": "stdout",
     "output_type": "stream",
     "text": [
      "time: 46.6 s (started: 2022-11-21 15:22:31 +08:00)\n"
     ]
    }
   ],
   "source": [
    "np.unique(data)"
   ]
  },
  {
   "cell_type": "code",
   "execution_count": null,
   "id": "cddd3c8b-87ae-4a0a-89ee-fe5935967098",
   "metadata": {},
   "outputs": [],
   "source": []
  },
  {
   "cell_type": "code",
   "execution_count": null,
   "id": "afdc0b90-458e-4d19-93de-62335501a37e",
   "metadata": {},
   "outputs": [],
   "source": []
  }
 ],
 "metadata": {
  "kernelspec": {
   "display_name": "Python 3 (ipykernel)",
   "language": "python",
   "name": "python3"
  },
  "language_info": {
   "codemirror_mode": {
    "name": "ipython",
    "version": 3
   },
   "file_extension": ".py",
   "mimetype": "text/x-python",
   "name": "python",
   "nbconvert_exporter": "python",
   "pygments_lexer": "ipython3",
   "version": "3.10.7"
  }
 },
 "nbformat": 4,
 "nbformat_minor": 5
}
