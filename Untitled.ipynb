{
 "cells": [
  {
   "cell_type": "code",
   "execution_count": 4,
   "id": "2436126e",
   "metadata": {},
   "outputs": [
    {
     "name": "stdout",
     "output_type": "stream",
     "text": [
      "Requirement already satisfied: ipython-autotime in c:\\users\\user\\appdata\\local\\programs\\python\\python310\\lib\\site-packages (0.3.1)\n",
      "Requirement already satisfied: ipython in c:\\users\\user\\appdata\\local\\programs\\python\\python310\\lib\\site-packages (from ipython-autotime) (8.5.0)\n",
      "Requirement already satisfied: stack-data in c:\\users\\user\\appdata\\local\\programs\\python\\python310\\lib\\site-packages (from ipython->ipython-autotime) (0.5.0)\n",
      "Requirement already satisfied: pygments>=2.4.0 in c:\\users\\user\\appdata\\local\\programs\\python\\python310\\lib\\site-packages (from ipython->ipython-autotime) (2.13.0)\n",
      "Requirement already satisfied: matplotlib-inline in c:\\users\\user\\appdata\\local\\programs\\python\\python310\\lib\\site-packages (from ipython->ipython-autotime) (0.1.6)\n",
      "Requirement already satisfied: backcall in c:\\users\\user\\appdata\\local\\programs\\python\\python310\\lib\\site-packages (from ipython->ipython-autotime) (0.2.0)\n",
      "Requirement already satisfied: pickleshare in c:\\users\\user\\appdata\\local\\programs\\python\\python310\\lib\\site-packages (from ipython->ipython-autotime) (0.7.5)\n",
      "Requirement already satisfied: colorama in c:\\users\\user\\appdata\\local\\programs\\python\\python310\\lib\\site-packages (from ipython->ipython-autotime) (0.4.5)\n",
      "Requirement already satisfied: jedi>=0.16 in c:\\users\\user\\appdata\\local\\programs\\python\\python310\\lib\\site-packages (from ipython->ipython-autotime) (0.18.1)\n",
      "Requirement already satisfied: decorator in c:\\users\\user\\appdata\\local\\programs\\python\\python310\\lib\\site-packages (from ipython->ipython-autotime) (5.1.1)\n",
      "Requirement already satisfied: traitlets>=5 in c:\\users\\user\\appdata\\local\\programs\\python\\python310\\lib\\site-packages (from ipython->ipython-autotime) (5.4.0)\n",
      "Requirement already satisfied: prompt-toolkit<3.1.0,>3.0.1 in c:\\users\\user\\appdata\\local\\programs\\python\\python310\\lib\\site-packages (from ipython->ipython-autotime) (3.0.31)\n",
      "Requirement already satisfied: parso<0.9.0,>=0.8.0 in c:\\users\\user\\appdata\\local\\programs\\python\\python310\\lib\\site-packages (from jedi>=0.16->ipython->ipython-autotime) (0.8.3)\n",
      "Requirement already satisfied: wcwidth in c:\\users\\user\\appdata\\local\\programs\\python\\python310\\lib\\site-packages (from prompt-toolkit<3.1.0,>3.0.1->ipython->ipython-autotime) (0.2.5)\n",
      "Requirement already satisfied: pure-eval in c:\\users\\user\\appdata\\local\\programs\\python\\python310\\lib\\site-packages (from stack-data->ipython->ipython-autotime) (0.2.2)\n",
      "Requirement already satisfied: asttokens in c:\\users\\user\\appdata\\local\\programs\\python\\python310\\lib\\site-packages (from stack-data->ipython->ipython-autotime) (2.0.8)\n",
      "Requirement already satisfied: executing in c:\\users\\user\\appdata\\local\\programs\\python\\python310\\lib\\site-packages (from stack-data->ipython->ipython-autotime) (1.0.0)\n",
      "Requirement already satisfied: six in c:\\users\\user\\appdata\\local\\programs\\python\\python310\\lib\\site-packages (from asttokens->stack-data->ipython->ipython-autotime) (1.16.0)\n",
      "The autotime extension is already loaded. To reload it, use:\n",
      "  %reload_ext autotime\n",
      "time: 4.34 s (started: 2022-11-21 15:54:17 +08:00)\n"
     ]
    }
   ],
   "source": [
    "import tensorflow as tf\n",
    "from tensorflow.keras.preprocessing.image import ImageDataGenerator\n",
    "from tensorflow.keras.applications import MobileNetV2\n",
    "from tensorflow.keras.layers import AveragePooling2D\n",
    "from tensorflow.keras.layers import Dropout\n",
    "from tensorflow.keras.layers import Flatten\n",
    "from tensorflow.keras.layers import Dense\n",
    "from tensorflow.keras.layers import Input\n",
    "from tensorflow.keras.models import Model\n",
    "from tensorflow.keras.optimizers import Adam\n",
    "from tensorflow.keras.applications.mobilenet_v2 import preprocess_input\n",
    "from tensorflow.keras.preprocessing.image import img_to_array\n",
    "from tensorflow.keras.preprocessing.image import load_img\n",
    "from tensorflow.keras.utils import to_categorical\n",
    "from sklearn.preprocessing import LabelBinarizer\n",
    "from sklearn.model_selection import train_test_split\n",
    "from sklearn.metrics import classification_report\n",
    "from sklearn.metrics import confusion_matrix\n",
    "from imutils import paths\n",
    "import matplotlib.pyplot as plt\n",
    "import pathlib\n",
    "import numpy as np\n",
    "import argparse\n",
    "import os\n",
    "import itertools\n",
    " \n",
    "# Mengihitung waktu lamanya eksekusi tiap sel di Google Colab\n",
    "!pip install ipython-autotime\n",
    " \n",
    "%load_ext autotime"
   ]
  },
  {
   "cell_type": "code",
   "execution_count": 5,
   "id": "d47262b8",
   "metadata": {},
   "outputs": [
    {
     "name": "stdout",
     "output_type": "stream",
     "text": [
      "Menginput gambar...\n",
      "Input gambar berhasil\n",
      "time: 1min 16s (started: 2022-11-21 15:54:21 +08:00)\n"
     ]
    }
   ],
   "source": [
    "# Inisialisasi nilai Initial Learning Rate, berapa banyak Epoch pelatihan, dan Batch Size\n",
    "INIT_LR = 1e-4\n",
    "EPOCHS = 30\n",
    "BS = 32\n",
    " \n",
    "# Mengambil gambar dari dataset directory, kemudian inisialisasi data dan class gambar\n",
    "print(\"Menginput gambar...\")\n",
    "imagePaths = list(paths.list_images('dataset'))\n",
    "data = []\n",
    "labels = []\n",
    " \n",
    "# Melakukan perulangan pada image paths\n",
    "for imagePath in imagePaths:\n",
    " \n",
    "    # Mengekstrak class label dari filename\n",
    "    label = imagePath.split(os.path.sep)[-2]\n",
    "    # Memuat input gambar (224x224) dan melakukan proses\n",
    "    image = load_img(imagePath, target_size=(224, 224))\n",
    "    image = img_to_array(image)\n",
    "    image = preprocess_input(image)\n",
    " \n",
    "    # Mengupdate data dan labels lists, berurutan\n",
    "    data.append(image)\n",
    "    labels.append(label)\n",
    "    \n",
    "\n",
    "# Mengkonversi data dan label ke dalam NumPy Arrays\n",
    "data = np.array(data, dtype=\"float32\")\n",
    "labels = np.array(labels)\n",
    " \n",
    "# Melakukan one-hot encoding on the labels\n",
    "lb = LabelBinarizer()\n",
    "labels = lb.fit_transform(labels)\n",
    "labels = to_categorical(labels)\n",
    "print(\"Input gambar berhasil\")"
   ]
  },
  {
   "cell_type": "code",
   "execution_count": 6,
   "id": "fa1d02f9-264a-4f6e-bec6-5d5e2530f710",
   "metadata": {},
   "outputs": [
    {
     "name": "stdout",
     "output_type": "stream",
     "text": [
      "(2254, 224, 224, 3)\n",
      "(2254, 2)\n",
      "time: 16 ms (started: 2022-11-21 15:55:38 +08:00)\n"
     ]
    }
   ],
   "source": [
    "print(data.shape)\n",
    "print(labels.shape)"
   ]
  },
  {
   "cell_type": "code",
   "execution_count": 9,
   "id": "cddd3c8b-87ae-4a0a-89ee-fe5935967098",
   "metadata": {},
   "outputs": [
    {
     "name": "stdout",
     "output_type": "stream",
     "text": [
      "time: 23.2 s (started: 2022-11-21 15:57:06 +08:00)\n"
     ]
    }
   ],
   "source": [
    "X_train, X_test, y_train, y_test = train_test_split(data, labels, test_size=0.20, stratify=labels)"
   ]
  },
  {
   "cell_type": "code",
   "execution_count": null,
   "id": "afdc0b90-458e-4d19-93de-62335501a37e",
   "metadata": {},
   "outputs": [],
   "source": []
  }
 ],
 "metadata": {
  "kernelspec": {
   "display_name": "Python 3 (ipykernel)",
   "language": "python",
   "name": "python3"
  },
  "language_info": {
   "codemirror_mode": {
    "name": "ipython",
    "version": 3
   },
   "file_extension": ".py",
   "mimetype": "text/x-python",
   "name": "python",
   "nbconvert_exporter": "python",
   "pygments_lexer": "ipython3",
   "version": "3.10.7"
  }
 },
 "nbformat": 4,
 "nbformat_minor": 5
}
